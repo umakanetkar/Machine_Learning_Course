{
 "cells": [
  {
   "cell_type": "markdown",
   "metadata": {},
   "source": [
    "## Load and Clean Data"
   ]
  },
  {
   "cell_type": "code",
   "execution_count": 1,
   "metadata": {},
   "outputs": [],
   "source": [
    "# print all the outputs in a cell\n",
    "from IPython.core.interactiveshell import InteractiveShell\n",
    "InteractiveShell.ast_node_interactivity = \"all\""
   ]
  },
  {
   "cell_type": "code",
   "execution_count": 2,
   "metadata": {
    "ExecuteTime": {
     "end_time": "2022-04-05T05:48:29.440749Z",
     "start_time": "2022-04-05T05:48:28.656913Z"
    }
   },
   "outputs": [
    {
     "data": {
      "text/html": [
       "<div>\n",
       "<style scoped>\n",
       "    .dataframe tbody tr th:only-of-type {\n",
       "        vertical-align: middle;\n",
       "    }\n",
       "\n",
       "    .dataframe tbody tr th {\n",
       "        vertical-align: top;\n",
       "    }\n",
       "\n",
       "    .dataframe thead th {\n",
       "        text-align: right;\n",
       "    }\n",
       "</style>\n",
       "<table border=\"1\" class=\"dataframe\">\n",
       "  <thead>\n",
       "    <tr style=\"text-align: right;\">\n",
       "      <th></th>\n",
       "      <th>Id</th>\n",
       "      <th>BldgType</th>\n",
       "      <th>LotArea</th>\n",
       "      <th>GrLivArea</th>\n",
       "      <th>YearBuilt</th>\n",
       "      <th>YrSold</th>\n",
       "      <th>SalePrice</th>\n",
       "    </tr>\n",
       "  </thead>\n",
       "  <tbody>\n",
       "    <tr>\n",
       "      <th>0</th>\n",
       "      <td>1</td>\n",
       "      <td>1Fam</td>\n",
       "      <td>8450</td>\n",
       "      <td>1710.0</td>\n",
       "      <td>2003</td>\n",
       "      <td>2008</td>\n",
       "      <td>208500</td>\n",
       "    </tr>\n",
       "    <tr>\n",
       "      <th>2</th>\n",
       "      <td>3</td>\n",
       "      <td>1Fam</td>\n",
       "      <td>11250</td>\n",
       "      <td>1786.0</td>\n",
       "      <td>2001</td>\n",
       "      <td>2008</td>\n",
       "      <td>223500</td>\n",
       "    </tr>\n",
       "    <tr>\n",
       "      <th>3</th>\n",
       "      <td>4</td>\n",
       "      <td>1Fam</td>\n",
       "      <td>9550</td>\n",
       "      <td>1717.0</td>\n",
       "      <td>1915</td>\n",
       "      <td>2006</td>\n",
       "      <td>140000</td>\n",
       "    </tr>\n",
       "    <tr>\n",
       "      <th>4</th>\n",
       "      <td>5</td>\n",
       "      <td>1Fam</td>\n",
       "      <td>14260</td>\n",
       "      <td>2198.0</td>\n",
       "      <td>2000</td>\n",
       "      <td>2008</td>\n",
       "      <td>250000</td>\n",
       "    </tr>\n",
       "    <tr>\n",
       "      <th>5</th>\n",
       "      <td>6</td>\n",
       "      <td>1Fam</td>\n",
       "      <td>14115</td>\n",
       "      <td>1362.0</td>\n",
       "      <td>1993</td>\n",
       "      <td>2009</td>\n",
       "      <td>143000</td>\n",
       "    </tr>\n",
       "  </tbody>\n",
       "</table>\n",
       "</div>"
      ],
      "text/plain": [
       "   Id BldgType  LotArea  GrLivArea  YearBuilt  YrSold  SalePrice\n",
       "0   1     1Fam     8450     1710.0       2003    2008     208500\n",
       "2   3     1Fam    11250     1786.0       2001    2008     223500\n",
       "3   4     1Fam     9550     1717.0       1915    2006     140000\n",
       "4   5     1Fam    14260     2198.0       2000    2008     250000\n",
       "5   6     1Fam    14115     1362.0       1993    2009     143000"
      ]
     },
     "execution_count": 2,
     "metadata": {},
     "output_type": "execute_result"
    }
   ],
   "source": [
    "import pandas as pd\n",
    "\n",
    "df = pd.read_csv('house_prices.csv')\n",
    "df_new = df[df.BldgType=='1Fam'].copy()\n",
    "df_new = df_new.dropna()\n",
    "df_new.head()"
   ]
  },
  {
   "cell_type": "markdown",
   "metadata": {},
   "source": [
    "## Split Data Into Train and Test"
   ]
  },
  {
   "cell_type": "code",
   "execution_count": 3,
   "metadata": {
    "ExecuteTime": {
     "end_time": "2022-04-05T05:52:10.661915Z",
     "start_time": "2022-04-05T05:52:10.651764Z"
    }
   },
   "outputs": [],
   "source": [
    "train_raw = df_new[df_new.YrSold < 2010].reset_index(drop=True)\n",
    "test_raw = df_new[df_new.YrSold >= 2010].reset_index(drop=True)\n",
    "train = train_raw[['GrLivArea', 'SalePrice']].copy()\n",
    "test = test_raw[['GrLivArea', 'SalePrice']].copy()\n"
   ]
  },
  {
   "cell_type": "markdown",
   "metadata": {},
   "source": [
    "## Get Features and Target"
   ]
  },
  {
   "cell_type": "code",
   "execution_count": 4,
   "metadata": {
    "ExecuteTime": {
     "end_time": "2022-04-05T05:52:23.853315Z",
     "start_time": "2022-04-05T05:52:23.847117Z"
    }
   },
   "outputs": [],
   "source": [
    "features = list(train.columns)\n",
    "target = \"SalePrice\"\n",
    "features.remove(target)\n",
    "\n",
    "X_train = train[features].copy()\n",
    "y_train = train[target].copy()\n",
    "\n",
    "X_test = test[features].copy()\n",
    "y_test = test[target].copy()"
   ]
  },
  {
   "cell_type": "markdown",
   "metadata": {},
   "source": [
    "## Create Pipeline"
   ]
  },
  {
   "cell_type": "code",
   "execution_count": 5,
   "metadata": {
    "ExecuteTime": {
     "end_time": "2022-04-05T05:54:05.433726Z",
     "start_time": "2022-04-05T05:54:04.802345Z"
    }
   },
   "outputs": [],
   "source": [
    "from sklearn.pipeline import Pipeline\n",
    "from sklearn.linear_model import LinearRegression\n",
    "from sklearn.preprocessing import PolynomialFeatures\n",
    "from sklearn.preprocessing import MinMaxScaler\n",
    "from sklearn.metrics import mean_absolute_error, mean_squared_error, r2_score"
   ]
  },
  {
   "cell_type": "code",
   "execution_count": 6,
   "metadata": {
    "ExecuteTime": {
     "end_time": "2022-04-05T06:34:59.783786Z",
     "start_time": "2022-04-05T06:34:59.766311Z"
    }
   },
   "outputs": [],
   "source": [
    "steps = [('poly', PolynomialFeatures(degree=30)),\n",
    "         ('rescale', MinMaxScaler()),\n",
    "         ('lr', LinearRegression())]\n",
    "pipeline_lr = Pipeline(steps)\n",
    "pipeline_lr = pipeline_lr.fit(X_train, y_train)"
   ]
  },
  {
   "cell_type": "markdown",
   "metadata": {},
   "source": [
    "<font color='red'>Assignment:</font> Calculate train and test loss; plot **GrLivArea** vs **SalePrice** using test data, and overlay it with model to see how the model works with test data."
   ]
  },
  {
   "cell_type": "code",
   "execution_count": 7,
   "metadata": {},
   "outputs": [],
   "source": [
    "y_train_pred=pipeline_lr.predict(X_train)\n",
    "y_test_pred=pipeline_lr.predict(X_test)"
   ]
  },
  {
   "cell_type": "code",
   "execution_count": 8,
   "metadata": {},
   "outputs": [
    {
     "name": "stdout",
     "output_type": "stream",
     "text": [
      "Linear Regression Test R2: 0.5765323424090693\n",
      "Linear Regression Test MAE: 36124.50451231931\n",
      "Linear Regression Test MSE: 2923416715.9692726\n"
     ]
    }
   ],
   "source": [
    "print(\"Linear Regression Test R2:\", r2_score(y_test,y_test_pred))\n",
    "print(\"Linear Regression Test MAE:\",mean_absolute_error(y_test,y_test_pred))\n",
    "print(\"Linear Regression Test MSE:\",mean_squared_error(y_test,y_test_pred))"
   ]
  },
  {
   "cell_type": "code",
   "execution_count": 9,
   "metadata": {},
   "outputs": [
    {
     "name": "stdout",
     "output_type": "stream",
     "text": [
      "Linear Regression Train R2: 0.6305219277889831\n",
      "Linear Regression Train MAE: 34739.9097538452\n",
      "Linear Regression Train MSE: 2439707079.423607\n"
     ]
    }
   ],
   "source": [
    "print(\"Linear Regression Train R2:\",r2_score(y_train,y_train_pred))\n",
    "print(\"Linear Regression Train MAE:\",mean_absolute_error(y_train,y_train_pred))\n",
    "print(\"Linear Regression Train MSE:\",mean_squared_error(y_train,y_train_pred))"
   ]
  },
  {
   "cell_type": "code",
   "execution_count": 16,
   "metadata": {},
   "outputs": [],
   "source": [
    "import matplotlib.pyplot as plt\n",
    "import numpy as np\n",
    "%matplotlib inline\n",
    "\n",
    "def myPlot(area, price, model):\n",
    "    plt.scatter(area, price, alpha=0.3)\n",
    "    x = np.linspace(0, area.max())\n",
    "    y = model.predict(x.reshape(-1,1))\n",
    "    plt.plot(x, y, color='r')\n",
    "    plt.xlabel('Living area')\n",
    "    plt.ylabel('Sale price')\n",
    "    plt.show()"
   ]
  },
  {
   "cell_type": "code",
   "execution_count": 18,
   "metadata": {},
   "outputs": [
    {
     "name": "stderr",
     "output_type": "stream",
     "text": [
      "C:\\Users\\Uma\\anaconda3\\lib\\site-packages\\sklearn\\base.py:450: UserWarning: X does not have valid feature names, but PolynomialFeatures was fitted with feature names\n",
      "  warnings.warn(\n"
     ]
    },
    {
     "data": {
      "image/png": "[encoded data removed]",
      "text/plain": [
       "<Figure size 432x288 with 1 Axes>"
      ]
     },
     "metadata": {
      "needs_background": "light"
     },
     "output_type": "display_data"
    }
   ],
   "source": [
    "myPlot(test.GrLivArea, test.SalePrice, pipeline_lr)"
   ]
  },
  {
   "cell_type": "markdown",
   "metadata": {},
   "source": [
    "# Lasso"
   ]
  },
  {
   "cell_type": "markdown",
   "metadata": {},
   "source": [
    "<font color='red'>Assignment:</font> Use **Lasso** instead of **LinearRegression** in **Pipeline**. Tune **alpha** in **Lasso** to search for the  alpha that has the lowest test loss, which is your best model. Visualize your best model and calculate its R2 scores."
   ]
  },
  {
   "cell_type": "code",
   "execution_count": 19,
   "metadata": {},
   "outputs": [],
   "source": [
    "import numpy as np\n",
    "from sklearn.pipeline import Pipeline\n",
    "from sklearn.linear_model import Lasso, Ridge\n",
    "from sklearn.preprocessing import PolynomialFeatures, MinMaxScaler\n",
    "from sklearn.metrics import mean_squared_error"
   ]
  },
  {
   "cell_type": "code",
   "execution_count": 22,
   "metadata": {},
   "outputs": [],
   "source": [
    "avalues = list(np.logspace(-3, 3, 50))\n",
    "mse_values = {}\n",
    "for a in avalues:\n",
    "    steps = [('poly', PolynomialFeatures(degree=3)),\n",
    "             ('rescale', MinMaxScaler()),\n",
    "             ('lr', Lasso(alpha=a, max_iter=100000))]\n",
    "    model = Pipeline(steps)\n",
    "    model = model.fit(X_train, y_train)\n",
    "    mse = mean_squared_error(y_test, model.predict(X_test))\n",
    "    mse_values[a] = mse"
   ]
  },
  {
   "cell_type": "code",
   "execution_count": 23,
   "metadata": {},
   "outputs": [
    {
     "data": {
      "text/plain": [
       "[<matplotlib.lines.Line2D at 0x1ff1a045a00>]"
      ]
     },
     "execution_count": 23,
     "metadata": {},
     "output_type": "execute_result"
    },
    {
     "data": {
      "text/plain": [
       "Text(0.5, 0, 'alpha')"
      ]
     },
     "execution_count": 23,
     "metadata": {},
     "output_type": "execute_result"
    },
    {
     "data": {
      "text/plain": [
       "Text(0, 0.5, 'MSE')"
      ]
     },
     "execution_count": 23,
     "metadata": {},
     "output_type": "execute_result"
    },
    {
     "data": {
      "text/plain": [
       "Text(0.5, 1.0, 'Loss vs. alpha using Lasso')"
      ]
     },
     "execution_count": 23,
     "metadata": {},
     "output_type": "execute_result"
    },
    {
     "data": {
      "image/png": "[encoded data removed]",
      "text/plain": [
       "<Figure size 432x288 with 1 Axes>"
      ]
     },
     "metadata": {
      "needs_background": "light"
     },
     "output_type": "display_data"
    }
   ],
   "source": [
    "import matplotlib.pylab as plt\n",
    "%matplotlib inline\n",
    "\n",
    "plt.plot(list(mse_values.keys()), list(mse_values.values()))\n",
    "plt.xscale('log')\n",
    "plt.xlabel('alpha')\n",
    "plt.ylabel('MSE')\n",
    "plt.title('Loss vs. alpha using Lasso')"
   ]
  },
  {
   "cell_type": "markdown",
   "metadata": {},
   "source": [
    "To find best model, we will create a dictionary so we can store MSE values with keys corresponding to respective alpha \n",
    "values. Then we sift through the dictionary, finding least MSE value and then retrieve its key."
   ]
  },
  {
   "cell_type": "code",
   "execution_count": 15,
   "metadata": {},
   "outputs": [
    {
     "name": "stdout",
     "output_type": "stream",
     "text": [
      "The alpha with lowest MSE is :  [0.001]\n"
     ]
    }
   ],
   "source": [
    "lowest_mse = min(mse_values.values())\n",
    "lowest_mse_alpha = [key for key in mse_values if mse_values[key] == lowest_mse]\n",
    "print(\"The alpha with lowest MSE is : \" , lowest_mse_alpha)"
   ]
  },
  {
   "cell_type": "code",
   "execution_count": 16,
   "metadata": {},
   "outputs": [
    {
     "name": "stdout",
     "output_type": "stream",
     "text": [
      "MSE 2999038911.7008376\n"
     ]
    }
   ],
   "source": [
    "steps = [('poly', PolynomialFeatures(degree=3)),\n",
    "             ('rescale', MinMaxScaler()),\n",
    "             ('lr', Lasso(alpha=lowest_mse_alpha, max_iter=100000))]\n",
    "model = Pipeline(steps)\n",
    "model = model.fit(X_train, y_train)\n",
    "print(\"MSE\",mean_squared_error(y_test, model.predict(X_test)))"
   ]
  },
  {
   "cell_type": "code",
   "execution_count": 17,
   "metadata": {},
   "outputs": [
    {
     "name": "stdout",
     "output_type": "stream",
     "text": [
      "Calculating Train Losses\n",
      "Mean Squared Error:  2913613509.259187\n",
      "Mean Absolute Error :  36545.075049815016\n",
      "R2 Score :  0.5587518224428021\n"
     ]
    }
   ],
   "source": [
    "print('Calculating Train Losses')\n",
    "print('Mean Squared Error: ',mean_squared_error(y_train,model.predict(X_train)))\n",
    "print('Mean Absolute Error : ',mean_absolute_error(y_train,model.predict(X_train)))\n",
    "print('R2 Score : ', r2_score(y_train,model.predict(X_train)))"
   ]
  },
  {
   "cell_type": "code",
   "execution_count": 18,
   "metadata": {},
   "outputs": [
    {
     "name": "stdout",
     "output_type": "stream",
     "text": [
      "Calculating Test Losses\n",
      "Mean Squared Error :  2999038911.7008376\n",
      "Mean Absolute Error :  36583.31602463315\n",
      "R2 Score :  0.5655781893752582\n"
     ]
    }
   ],
   "source": [
    "print('Calculating Test Losses')\n",
    "print('Mean Squared Error : ',mean_squared_error(y_test,model.predict(X_test)))\n",
    "print('Mean Absolute Error : ',mean_absolute_error(y_test,model.predict(X_test)))\n",
    "print('R2 Score : ', r2_score(y_test,model.predict(X_test)))"
   ]
  },
  {
   "cell_type": "code",
   "execution_count": 19,
   "metadata": {},
   "outputs": [
    {
     "name": "stderr",
     "output_type": "stream",
     "text": [
      "C:\\Users\\Uma\\anaconda3\\lib\\site-packages\\sklearn\\base.py:450: UserWarning: X does not have valid feature names, but PolynomialFeatures was fitted with feature names\n",
      "  warnings.warn(\n"
     ]
    },
    {
     "data": {
      "image/png": "[encoded data removed]",
      "text/plain": [
       "<Figure size 432x288 with 1 Axes>"
      ]
     },
     "metadata": {
      "needs_background": "light"
     },
     "output_type": "display_data"
    }
   ],
   "source": [
    "myPlot(test.GrLivArea, test.SalePrice, model)"
   ]
  },
  {
   "cell_type": "markdown",
   "metadata": {},
   "source": [
    "<font color='red'>Question:</font> **Alpha** is a hyper parameter. What is hyper parameter? "
   ]
  },
  {
   "cell_type": "markdown",
   "metadata": {},
   "source": [
    " Hyperparameters are the parameters which controls the learning process.They determine the values of model parameters which will be used by the algorithm for learning. The hyperparameter values are set initially before model trainning. The values of this hyper parameter is choosen after searching for the best combination of hyperparameters that result in the best performance on a given task."
   ]
  },
  {
   "cell_type": "markdown",
   "metadata": {},
   "source": [
    "<font color='red'>Question:</font> How does **alpha** affect model complexity?"
   ]
  },
  {
   "cell_type": "markdown",
   "metadata": {},
   "source": [
    "The mark of a good model is less value of cost function. If alpha has higher value, it will make cost function bigger so to compensate for this , coefficient absolute value becomes less with unimportant coefficients becoming zero. Thus if alpha value is too high, algorithm can make important coefficient value zero, resulting in a simpler model and ultimately underfitting. "
   ]
  },
  {
   "cell_type": "markdown",
   "metadata": {},
   "source": [
    "<font color='red'>Question:</font> How does **alpha** affect the coefficient values?"
   ]
  },
  {
   "cell_type": "markdown",
   "metadata": {
    "ExecuteTime": {
     "end_time": "2022-04-05T06:46:37.838068Z",
     "start_time": "2022-04-05T06:46:37.640708Z"
    }
   },
   "source": [
    "If alpha value is too high, important coefficients can also become 0 resulting in a very simple model (underfitting) whereas is alpha value is too low, unimportant features will have high coefficients resulting in an unnecessarily complex model. The best way to find alpha is try out different values and see how well the model performs."
   ]
  },
  {
   "cell_type": "markdown",
   "metadata": {},
   "source": [
    "# Ridge"
   ]
  },
  {
   "cell_type": "markdown",
   "metadata": {},
   "source": [
    "<font color='red'>Assignment:</font> Try **Ridge** instead of **Lasso**."
   ]
  },
  {
   "cell_type": "code",
   "execution_count": 20,
   "metadata": {
    "ExecuteTime": {
     "end_time": "2022-04-05T07:05:25.490915Z",
     "start_time": "2022-04-05T07:05:25.047744Z"
    }
   },
   "outputs": [],
   "source": [
    "avalues = list(np.logspace(-3, 3, 50))\n",
    "mse_values = {}\n",
    "for a in avalues:\n",
    "    steps = [('poly', PolynomialFeatures(degree=3)),\n",
    "             ('rescale', MinMaxScaler()),\n",
    "             ('lr', Ridge(alpha=a, max_iter=100000))]\n",
    "    model = Pipeline(steps)\n",
    "    model = model.fit(X_train, y_train)\n",
    "    mse = mean_squared_error(y_test, model.predict(X_test))\n",
    "    mse_values[a] = mse"
   ]
  },
  {
   "cell_type": "code",
   "execution_count": 21,
   "metadata": {
    "ExecuteTime": {
     "end_time": "2022-04-05T07:07:52.910019Z",
     "start_time": "2022-04-05T07:07:52.774393Z"
    }
   },
   "outputs": [
    {
     "data": {
      "text/plain": [
       "[<matplotlib.lines.Line2D at 0x20d883cba30>]"
      ]
     },
     "execution_count": 21,
     "metadata": {},
     "output_type": "execute_result"
    },
    {
     "data": {
      "text/plain": [
       "Text(0.5, 0, 'alpha')"
      ]
     },
     "execution_count": 21,
     "metadata": {},
     "output_type": "execute_result"
    },
    {
     "data": {
      "text/plain": [
       "Text(0, 0.5, 'MSE')"
      ]
     },
     "execution_count": 21,
     "metadata": {},
     "output_type": "execute_result"
    },
    {
     "data": {
      "text/plain": [
       "Text(0.5, 1.0, 'Loss vs. alpha using Ridge')"
      ]
     },
     "execution_count": 21,
     "metadata": {},
     "output_type": "execute_result"
    },
    {
     "data": {
      "image/png": "[encoded data removed]",
      "text/plain": [
       "<Figure size 432x288 with 1 Axes>"
      ]
     },
     "metadata": {
      "needs_background": "light"
     },
     "output_type": "display_data"
    }
   ],
   "source": [
    "import matplotlib.pylab as plt\n",
    "%matplotlib inline\n",
    "\n",
    "plt.plot(list(mse_values.keys()), list(mse_values.values()))\n",
    "plt.xscale('log')\n",
    "plt.xlabel('alpha')\n",
    "plt.ylabel('MSE')\n",
    "plt.title('Loss vs. alpha using Ridge')"
   ]
  },
  {
   "cell_type": "code",
   "execution_count": 22,
   "metadata": {},
   "outputs": [
    {
     "name": "stdout",
     "output_type": "stream",
     "text": [
      "The alpha with lowest MSE is :  [0.001]\n"
     ]
    }
   ],
   "source": [
    "lowest_mse = min(mse_values.values())\n",
    "lowest_mse_alpha = [key for key in mse_values if mse_values[key] == lowest_mse]\n",
    "print(\"The alpha with lowest MSE is : \" , lowest_mse_alpha)"
   ]
  },
  {
   "cell_type": "code",
   "execution_count": 23,
   "metadata": {},
   "outputs": [
    {
     "name": "stdout",
     "output_type": "stream",
     "text": [
      "MSE 2999038911.7008376\n"
     ]
    }
   ],
   "source": [
    "steps = [('poly', PolynomialFeatures(degree=3)),\n",
    "             ('rescale', MinMaxScaler()),\n",
    "             ('lr', Lasso(alpha=lowest_mse_alpha, max_iter=100000))]\n",
    "model = Pipeline(steps)\n",
    "model = model.fit(X_train, y_train)\n",
    "print(\"MSE\",mean_squared_error(y_test, model.predict(X_test)))"
   ]
  },
  {
   "cell_type": "code",
   "execution_count": 24,
   "metadata": {},
   "outputs": [
    {
     "name": "stdout",
     "output_type": "stream",
     "text": [
      "Calculating Train Losses\n",
      "Mean Squared Error:  2913613509.259187\n",
      "Mean Absolute Error :  36545.075049815016\n",
      "R2 Score :  0.5587518224428021\n"
     ]
    }
   ],
   "source": [
    "print('Calculating Train Losses')\n",
    "print('Mean Squared Error: ',mean_squared_error(y_train,model.predict(X_train)))\n",
    "print('Mean Absolute Error : ',mean_absolute_error(y_train,model.predict(X_train)))\n",
    "print('R2 Score : ', r2_score(y_train,model.predict(X_train)))"
   ]
  },
  {
   "cell_type": "code",
   "execution_count": 25,
   "metadata": {},
   "outputs": [
    {
     "name": "stdout",
     "output_type": "stream",
     "text": [
      "Calculating Test Losses\n",
      "Mean Squared Error :  2999038911.7008376\n",
      "Mean Absolute Error :  36583.31602463315\n",
      "R2 Score :  0.5655781893752582\n"
     ]
    }
   ],
   "source": [
    "print('Calculating Test Losses')\n",
    "print('Mean Squared Error : ',mean_squared_error(y_test,model.predict(X_test)))\n",
    "print('Mean Absolute Error : ',mean_absolute_error(y_test,model.predict(X_test)))\n",
    "print('R2 Score : ', r2_score(y_test,model.predict(X_test)))"
   ]
  },
  {
   "cell_type": "code",
   "execution_count": 26,
   "metadata": {},
   "outputs": [
    {
     "name": "stderr",
     "output_type": "stream",
     "text": [
      "C:\\Users\\Uma\\anaconda3\\lib\\site-packages\\sklearn\\base.py:450: UserWarning: X does not have valid feature names, but PolynomialFeatures was fitted with feature names\n",
      "  warnings.warn(\n"
     ]
    },
    {
     "data": {
      "image/png": "[encoded data removed]",
      "text/plain": [
       "<Figure size 432x288 with 1 Axes>"
      ]
     },
     "metadata": {
      "needs_background": "light"
     },
     "output_type": "display_data"
    }
   ],
   "source": [
    "myPlot(test.GrLivArea, test.SalePrice, model)"
   ]
  },
  {
   "cell_type": "markdown",
   "metadata": {},
   "source": [
    "<font color='red'>Question:</font> What is regularization? How does it work?"
   ]
  },
  {
   "cell_type": "markdown",
   "metadata": {},
   "source": [
    "A too simple model will result in underfitting while a too complex model will result in overfitting to achieve a lesser variance in the tested data. We use regularisation to find a model thats neither too simple nor too complex. It does so by penalising higher value coefficients in cost function. There are two types of regression, Ridge and Lasso- both use different terms in cost function. "
   ]
  },
  {
   "cell_type": "markdown",
   "metadata": {},
   "source": [
    "<font color='red'>Question:</font> What are \"L1\" and \"L2\" regularizations, respectively? How are the effects on coefficients from **Ridge** and **Lasso** different?"
   ]
  },
  {
   "cell_type": "markdown",
   "metadata": {},
   "source": [
    "In Ridge Regression (also known as L2 regularisation), we multiply alpha (hyperparameter) with squared value of coefficients while in Lasso Regression (also known as L1 regularisation), we multiply alpha (hyperparameter) with absolute of coefficients.\n",
    "\n",
    "Ridge and Lasso Penalty contains all of estimated parameters except for y-intercept."
   ]
  },
  {
   "cell_type": "markdown",
   "metadata": {},
   "source": [
    "The main difference between Ridge and Lasso is that when value of alpha increases, Ridge Regression never makes coefficients zero- it just shrinks it. Whereas in Lasso Regression,at higher value of alpha, some (unimportant) coefficients become zero. So Lasso Regression filters out unimportant terms and Ridge does not."
   ]
  },
  {
   "cell_type": "code",
   "execution_count": null,
   "metadata": {},
   "outputs": [],
   "source": []
  }
 ],
 "metadata": {
  "kernelspec": {
   "display_name": "Python 3 (ipykernel)",
   "language": "python",
   "name": "python3"
  },
  "language_info": {
   "codemirror_mode": {
    "name": "ipython",
    "version": 3
   },
   "file_extension": ".py",
   "mimetype": "text/x-python",
   "name": "python",
   "nbconvert_exporter": "python",
   "pygments_lexer": "ipython3",
   "version": "3.9.12"
  }
 },
 "nbformat": 4,
 "nbformat_minor": 2
}
